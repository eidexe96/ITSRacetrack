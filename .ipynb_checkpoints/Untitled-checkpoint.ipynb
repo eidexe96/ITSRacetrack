{
 "cells": [
  {
   "cell_type": "code",
   "execution_count": 1,
   "metadata": {
    "collapsed": false
   },
   "outputs": [
    {
     "data": {
      "text/plain": [
       "1515494361.9964652"
      ]
     },
     "execution_count": 1,
     "metadata": {},
     "output_type": "execute_result"
    }
   ],
   "source": [
    "import showResults as rslt\n",
    "import time\n",
    "x = time.time()\n",
    "x"
   ]
  },
  {
   "cell_type": "code",
   "execution_count": 2,
   "metadata": {
    "collapsed": false
   },
   "outputs": [],
   "source": [
    "rslt.showResults(1, 4, x)"
   ]
  },
  {
   "cell_type": "code",
   "execution_count": 12,
   "metadata": {
    "collapsed": false
   },
   "outputs": [],
   "source": [
    "import checkpointLogic as cpl"
   ]
  },
  {
   "cell_type": "code",
   "execution_count": 13,
   "metadata": {
    "collapsed": false
   },
   "outputs": [
    {
     "data": {
      "text/plain": [
       "0"
      ]
     },
     "execution_count": 13,
     "metadata": {},
     "output_type": "execute_result"
    }
   ],
   "source": [
    "cpl.GPIO.input(21)"
   ]
  },
  {
   "cell_type": "code",
   "execution_count": 15,
   "metadata": {
    "collapsed": false
   },
   "outputs": [
    {
     "data": {
      "text/plain": [
       "1"
      ]
     },
     "execution_count": 15,
     "metadata": {},
     "output_type": "execute_result"
    }
   ],
   "source": [
    "cpl.checkpointReached(0)"
   ]
  },
  {
   "cell_type": "code",
   "execution_count": 16,
   "metadata": {
    "collapsed": false
   },
   "outputs": [
    {
     "name": "stdout",
     "output_type": "stream",
     "text": [
      "The history saving thread hit an unexpected error (OperationalError('unable to open database file',)).History will not be written to the database.\n"
     ]
    }
   ],
   "source": [
    "GPIO.cleanup()\n"
   ]
  },
  {
   "cell_type": "code",
   "execution_count": 1,
   "metadata": {
    "collapsed": true
   },
   "outputs": [],
   "source": [
    "import light as lit"
   ]
  },
  {
   "cell_type": "code",
   "execution_count": 6,
   "metadata": {
    "collapsed": false
   },
   "outputs": [
    {
     "name": "stdout",
     "output_type": "stream",
     "text": [
      "halo\n"
     ]
    }
   ],
   "source": [
    "lit.allYellow()\n",
    "print(\"halo\")"
   ]
  },
  {
   "cell_type": "code",
   "execution_count": 8,
   "metadata": {
    "collapsed": false
   },
   "outputs": [
    {
     "data": {
      "text/plain": [
       "1515491450.3609564"
      ]
     },
     "execution_count": 8,
     "metadata": {},
     "output_type": "execute_result"
    }
   ],
   "source": [
    "y = time.time()\n",
    "y"
   ]
  },
  {
   "cell_type": "code",
   "execution_count": 9,
   "metadata": {
    "collapsed": false
   },
   "outputs": [
    {
     "data": {
      "text/plain": [
       "167.22177076339722"
      ]
     },
     "execution_count": 9,
     "metadata": {},
     "output_type": "execute_result"
    }
   ],
   "source": [
    "y-x"
   ]
  },
  {
   "cell_type": "code",
   "execution_count": 10,
   "metadata": {
    "collapsed": false
   },
   "outputs": [],
   "source": [
    "import math\n",
    "s = (y-x)%60"
   ]
  },
  {
   "cell_type": "code",
   "execution_count": 11,
   "metadata": {
    "collapsed": false
   },
   "outputs": [
    {
     "data": {
      "text/plain": [
       "47.22177076339722"
      ]
     },
     "execution_count": 11,
     "metadata": {},
     "output_type": "execute_result"
    }
   ],
   "source": [
    "s"
   ]
  },
  {
   "cell_type": "code",
   "execution_count": 14,
   "metadata": {
    "collapsed": false
   },
   "outputs": [
    {
     "data": {
      "text/plain": [
       "2"
      ]
     },
     "execution_count": 14,
     "metadata": {},
     "output_type": "execute_result"
    }
   ],
   "source": [
    "m = math.floor((y-x)/60)\n",
    "m"
   ]
  },
  {
   "cell_type": "code",
   "execution_count": 52,
   "metadata": {
    "collapsed": true
   },
   "outputs": [],
   "source": [
    "import showResults as rslt"
   ]
  },
  {
   "cell_type": "code",
   "execution_count": 2,
   "metadata": {
    "collapsed": false
   },
   "outputs": [
    {
     "name": "stdout",
     "output_type": "stream",
     "text": [
      "Die erreichte Gesamtzeit für zwei Runden beträgt: 0 Min 6.1 Sek. Herzlichen Glückwunsch!\n"
     ]
    }
   ],
   "source": [
    "rslt.showTime(x)"
   ]
  },
  {
   "cell_type": "code",
   "execution_count": 19,
   "metadata": {
    "collapsed": false
   },
   "outputs": [
    {
     "data": {
      "text/plain": [
       "1515491894.7211313"
      ]
     },
     "execution_count": 19,
     "metadata": {},
     "output_type": "execute_result"
    }
   ],
   "source": [
    "time.time()"
   ]
  },
  {
   "cell_type": "code",
   "execution_count": 32,
   "metadata": {
    "collapsed": true
   },
   "outputs": [],
   "source": [
    "rslt.showResults(2,2,y)"
   ]
  },
  {
   "cell_type": "code",
   "execution_count": 48,
   "metadata": {
    "collapsed": true
   },
   "outputs": [],
   "source": [
    "import pandas as pd\n",
    "import time\n",
    "import math\n",
    "\n",
    "def showTime(starttime):\n",
    "    result = time.time() - starttime\n",
    "    s = round((result)%60,1)\n",
    "    m = math.floor((y-x)/60)\n",
    "    out = \"Die erreichte Gesamtzeit für zwei Runden beträgt: \"\n",
    "    out += str(m)\n",
    "    out += \" Min \"\n",
    "    out += str(s)\n",
    "    out += \" Sek. Herzlichen Glückwunsch!\"\n",
    "    print(out)\n",
    "    \n",
    "def showResults(activeCheckpoint, teamid, starttime):\n",
    "    fn = \"test.csv\" #CSV - Datenbank\n",
    "    htmlpage = \"test.html\" #Zieldatei html\n",
    "    if activeCheckpoint == 0:\n",
    "        #show Team info\n",
    "        df = pd.read_csv(fn)     #pd.DataFrame.from_csv(fn)\n",
    "        table = pd.DataFrame.to_html(df)\n",
    "        htmlOut= open(htmlpage,\"w\")\n",
    "        html = '<html><head><title>Racing Info</title><meta http-equiv=\"refresh\" content=\"5\"></head><body><p>Racing Infos here</p><a href=\"http://localhost:8081/0\">Anderer Text</a>' \n",
    "        html += table\n",
    "        html +='<p>presented by Team Racetrack</p></body></html>' \n",
    "        htmlOut.write(html)\n",
    "        htmlOut.close()\n",
    "    elif activeCheckpoint > 0 and activeCheckpoint < 9:\n",
    "        #show Live Time\n",
    "        dt = time.time() - starttime\n",
    "        livetime = str(math.floor(dt/60))\n",
    "        livetime += \" Minuten \"\n",
    "        livetime += str(round(dt%60))\n",
    "        livetime += \" Sekunden\"\n",
    "        htmlOut= open(htmlpage,\"w\")\n",
    "        html = '<html><head><title>Racing Info</title><meta http-equiv=\"refresh\" content=\"5\"></head><body><p>Racing Infos here</p><a href=\"http://localhost:8081/0\">Anderer Text</a>' \n",
    "        html += livetime      #aktuell gefahrene Zeit seit Start\n",
    "        html +='<p>presented by Team Racetrack</p></body></html>' \n",
    "        htmlOut.write(html)\n",
    "        htmlOut.close()\n",
    "    elif activeCheckpoint == 9:\n",
    "        #show Results after Race End\n",
    "        htmlOut= open(htmlpage,\"w\")\n",
    "        html = '<html><head><title>Racing Info</title><meta http-equiv=\"refresh\" content=\"5\"></head><body><p>Racing Infos here</p><a href=\"http://localhost:8081/0\">Anderer Text</a>' \n",
    "        html += table\n",
    "        html +='<p>presented by Team Racetrack</p></body></html>' \n",
    "        htmlOut.write(html)\n",
    "        htmlOut.close()\n",
    "    else:\n",
    "        #show Error\n",
    "        htmlOut= open(htmlpage,\"w\")\n",
    "        html = '<html><head><title>Racing Info</title><meta http-equiv=\"refresh\" content=\"5\"></head><body><p>Racing Infos here</p><a href=\"http://localhost:8081/0\">Anderer Text</a>' \n",
    "        html += \"An Error occured. Please contact your beloved RaceTrack Team!\"\n",
    "        html +='<p>Thank you.</p></body></html>' \n",
    "        htmlOut.write(html)\n",
    "        htmlOut.close()\n",
    "\n",
    "    print(time)"
   ]
  },
  {
   "cell_type": "code",
   "execution_count": 51,
   "metadata": {
    "collapsed": false
   },
   "outputs": [
    {
     "name": "stdout",
     "output_type": "stream",
     "text": [
      "Die erreichte Gesamtzeit für zwei Runden beträgt: 2 Min 32.6 Sek. Herzlichen Glückwunsch!\n"
     ]
    }
   ],
   "source": [
    "showTime(y)"
   ]
  },
  {
   "cell_type": "code",
   "execution_count": 26,
   "metadata": {
    "collapsed": false
   },
   "outputs": [
    {
     "data": {
      "text/plain": [
       "0"
      ]
     },
     "execution_count": 26,
     "metadata": {},
     "output_type": "execute_result"
    }
   ],
   "source": [
    "import RPi.GPIO as GPIO\n",
    "import checkpointLogic as cpt\n",
    "cpt.checkpointReached(0)"
   ]
  },
  {
   "cell_type": "code",
   "execution_count": 27,
   "metadata": {
    "collapsed": false
   },
   "outputs": [
    {
     "data": {
      "text/plain": [
       "0"
      ]
     },
     "execution_count": 27,
     "metadata": {},
     "output_type": "execute_result"
    }
   ],
   "source": [
    "GPIO.input(20)"
   ]
  },
  {
   "cell_type": "code",
   "execution_count": 28,
   "metadata": {
    "collapsed": false
   },
   "outputs": [
    {
     "ename": "TypeError",
     "evalue": "'int' object is not callable",
     "output_type": "error",
     "traceback": [
      "\u001b[0;31m---------------------------------------------------------------------------\u001b[0m",
      "\u001b[0;31mTypeError\u001b[0m                                 Traceback (most recent call last)",
      "\u001b[0;32m<ipython-input-28-2a02535d21dd>\u001b[0m in \u001b[0;36m<module>\u001b[0;34m()\u001b[0m\n\u001b[0;32m----> 1\u001b[0;31m \u001b[0mcpt\u001b[0m\u001b[0;34m.\u001b[0m\u001b[0mcp0\u001b[0m\u001b[0;34m.\u001b[0m\u001b[0mtime1\u001b[0m\u001b[0;34m(\u001b[0m\u001b[0;34m)\u001b[0m\u001b[0;34m\u001b[0m\u001b[0m\n\u001b[0m",
      "\u001b[0;31mTypeError\u001b[0m: 'int' object is not callable"
     ]
    }
   ],
   "source": [
    "cpt.cp0.time1()"
   ]
  },
  {
   "cell_type": "code",
   "execution_count": 29,
   "metadata": {
    "collapsed": false
   },
   "outputs": [],
   "source": [
    "cp0 = cpt.checkpt(0, 4, 17, 1, 2)\n",
    "cp1 = cpt.checkpt(1, 5, 6, 3, 4)\n",
    "cp2 = cpt.checkpt(2, 23, 24, 5, 6)\n",
    "cp3 = cpt.checkpt(3, 16, 20, 7, 8)\n",
    "\n",
    "cpt.cp0.assignPins()\n",
    "cpt.cp1.assignPins()\n",
    "cpt.cp2.assignPins()\n",
    "cpt.cp3.assignPins()"
   ]
  },
  {
   "cell_type": "code",
   "execution_count": 30,
   "metadata": {
    "collapsed": false
   },
   "outputs": [
    {
     "data": {
      "text/plain": [
       "96"
      ]
     },
     "execution_count": 30,
     "metadata": {},
     "output_type": "execute_result"
    }
   ],
   "source": [
    "cpt.roundSum1(cpt.checkpt.allCpts)"
   ]
  },
  {
   "cell_type": "code",
   "execution_count": 32,
   "metadata": {
    "collapsed": false
   },
   "outputs": [
    {
     "ename": "NameError",
     "evalue": "name 'totalTime' is not defined",
     "output_type": "error",
     "traceback": [
      "\u001b[0;31m---------------------------------------------------------------------------\u001b[0m",
      "\u001b[0;31mNameError\u001b[0m                                 Traceback (most recent call last)",
      "\u001b[0;32m<ipython-input-32-6c233f09841d>\u001b[0m in \u001b[0;36m<module>\u001b[0;34m()\u001b[0m\n\u001b[0;32m----> 1\u001b[0;31m \u001b[0mcpt\u001b[0m\u001b[0;34m.\u001b[0m\u001b[0mprepareDataForDB\u001b[0m\u001b[0;34m(\u001b[0m\u001b[0;36m0\u001b[0m\u001b[0;34m)\u001b[0m\u001b[0;34m\u001b[0m\u001b[0m\n\u001b[0m",
      "\u001b[0;32m/home/pi/work/its/ITSRacetrack/checkpointLogic.py\u001b[0m in \u001b[0;36mprepareDataForDB\u001b[0;34m(teamid)\u001b[0m\n\u001b[1;32m    151\u001b[0m         \u001b[0mbestround\u001b[0m \u001b[0;34m=\u001b[0m \u001b[0mround2\u001b[0m\u001b[0;34m\u001b[0m\u001b[0m\n\u001b[1;32m    152\u001b[0m \u001b[0;34m\u001b[0m\u001b[0m\n\u001b[0;32m--> 153\u001b[0;31m      \u001b[0;31m#round1 + round2\u001b[0m\u001b[0;34m\u001b[0m\u001b[0;34m\u001b[0m\u001b[0m\n\u001b[0m\u001b[1;32m    154\u001b[0m \u001b[0;34m\u001b[0m\u001b[0m\n\u001b[1;32m    155\u001b[0m     \u001b[0;31m#wtdb.writeToDb(teamid, totalTime, bestround, time01, time12, time23, time30, \"ijöööö\") #0 place holder if needed\u001b[0m\u001b[0;34m\u001b[0m\u001b[0;34m\u001b[0m\u001b[0m\n",
      "\u001b[0;31mNameError\u001b[0m: name 'totalTime' is not defined"
     ]
    }
   ],
   "source": [
    "cpt.prepareDataForDB(0)"
   ]
  },
  {
   "cell_type": "code",
   "execution_count": null,
   "metadata": {
    "collapsed": true
   },
   "outputs": [],
   "source": []
  }
 ],
 "metadata": {
  "kernelspec": {
   "display_name": "Python 3",
   "language": "python",
   "name": "python3"
  },
  "language_info": {
   "codemirror_mode": {
    "name": "ipython",
    "version": 3
   },
   "file_extension": ".py",
   "mimetype": "text/x-python",
   "name": "python",
   "nbconvert_exporter": "python",
   "pygments_lexer": "ipython3",
   "version": "3.5.3"
  }
 },
 "nbformat": 4,
 "nbformat_minor": 2
}
