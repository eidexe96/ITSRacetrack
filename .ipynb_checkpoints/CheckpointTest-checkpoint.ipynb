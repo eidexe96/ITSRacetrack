{
 "cells": [
  {
   "cell_type": "code",
   "execution_count": 1,
   "metadata": {
    "collapsed": false
   },
   "outputs": [],
   "source": [
    "import time\n",
    "import RPi.GPIO as GPIO\n",
    "\n",
    "GPIO.setmode(GPIO.BCM)\n",
    "\n",
    "\n",
    "\n",
    "global time01\n",
    "global time12\n",
    "global time23\n",
    "global time30\n",
    "global bestround\n",
    "global totalTime\n",
    "\n",
    "\n",
    "\n",
    "\n",
    "class checkpt:\n",
    "    'Base class for all Checkpoints'\n",
    "    count = 0\n",
    "    allCpts = []\n",
    "    \n",
    "    def __init__(self, nr, outputPin, inputPin, time1=0, time2=0, check1 = False, check2 = False):\n",
    "        self.nr = nr\n",
    "        self.time1 = time1\n",
    "        self.time2 = time2\n",
    "        self.check1 = check1\n",
    "        self.check2 = check2\n",
    "        self.outputPin = outputPin\n",
    "        self.inputPin = inputPin\n",
    "        checkpt.count +=1\n",
    "        checkpt.allCpts.append(self)\n",
    "        \n",
    "        \n",
    "    def assignPins(self):\n",
    "        i = self.inputPin\n",
    "        o = self.outputPin\n",
    "        GPIO.setup(o, GPIO.OUT)\n",
    "        GPIO.output(o, 1)\n",
    "        GPIO.setup(i, GPIO.IN)\n",
    "        GPIO.input(i)\n",
    "    \n",
    "    def resetCpt(self):\n",
    "        self.time1 = 0\n",
    "        self.time2 = 0\n",
    "        self.check1 = False\n",
    "        self.check2 = False\n",
    "    \n",
    "\n",
    "    \n",
    "    def savePartTime(self, starttime):\n",
    "        if (starttime != 0):\n",
    "            if (self.check1 == False):\n",
    "                self.time1 = time.time() - starttime\n",
    "                self.check1 = True\n",
    "                print(\"time1 set\")\n",
    "            elif (self.check2 == False):\n",
    "                self.time2 = time.time() - starttime\n",
    "                self.check2 = True\n",
    "                print(\"time2 set\")\n",
    "\n",
    "cp0 = checkpt(0, 4, 17)\n",
    "cp1 = checkpt(1, 5, 6)\n",
    "cp2 = checkpt(2, 23, 24)\n",
    "cp3 = checkpt(3, 16, 20)\n",
    "\n",
    "cp0.assignPins()\n",
    "cp1.assignPins()\n",
    "cp2.assignPins()\n",
    "cp3.assignPins()\n",
    "\n",
    "\n",
    "def checkpointReached(checkNr):\n",
    "    if (checkNr == 0):\n",
    "        return GPIO.input(cp0.inputPin)\n",
    "    elif (checkNr == 1):\n",
    "        return GPIO.input(cp1.inputPin)\n",
    "    elif (checkNr == 2):\n",
    "        return GPIO.input(cp2.inputPin)\n",
    "    elif (checkNr == 3):\n",
    "        return GPIO.input(cp3.inputPin)\n"
   ]
  },
  {
   "cell_type": "code",
   "execution_count": 27,
   "metadata": {
    "collapsed": false
   },
   "outputs": [
    {
     "data": {
      "text/plain": [
       "0"
      ]
     },
     "execution_count": 27,
     "metadata": {},
     "output_type": "execute_result"
    }
   ],
   "source": [
    "\n"
   ]
  },
  {
   "cell_type": "code",
   "execution_count": null,
   "metadata": {
    "collapsed": false
   },
   "outputs": [],
   "source": []
  },
  {
   "cell_type": "code",
   "execution_count": 10,
   "metadata": {
    "collapsed": false
   },
   "outputs": [
    {
     "data": {
      "text/plain": [
       "0"
      ]
     },
     "execution_count": 10,
     "metadata": {},
     "output_type": "execute_result"
    }
   ],
   "source": [
    "GPIO.input(6)"
   ]
  },
  {
   "cell_type": "code",
   "execution_count": 3,
   "metadata": {
    "collapsed": false
   },
   "outputs": [
    {
     "data": {
      "text/plain": [
       "0"
      ]
     },
     "execution_count": 3,
     "metadata": {},
     "output_type": "execute_result"
    }
   ],
   "source": [
    "checkpointReached(1)"
   ]
  },
  {
   "cell_type": "code",
   "execution_count": null,
   "metadata": {
    "collapsed": false,
    "scrolled": false
   },
   "outputs": [
    {
     "name": "stdout",
     "output_type": "stream",
     "text": [
      "0\n",
      "0\n",
      "0\n",
      "0\n",
      "1\n",
      "1\n",
      "1\n",
      "1\n",
      "1\n",
      "1\n",
      "1\n",
      "1\n",
      "1\n",
      "1\n"
     ]
    }
   ],
   "source": [
    "while(True):\n",
    "    print(checkpointReached(0))\n",
    "    time.sleep(1)"
   ]
  },
  {
   "cell_type": "code",
   "execution_count": null,
   "metadata": {
    "collapsed": true
   },
   "outputs": [],
   "source": []
  },
  {
   "cell_type": "code",
   "execution_count": null,
   "metadata": {
    "collapsed": true
   },
   "outputs": [],
   "source": []
  },
  {
   "cell_type": "code",
   "execution_count": null,
   "metadata": {
    "collapsed": true
   },
   "outputs": [],
   "source": []
  }
 ],
 "metadata": {
  "kernelspec": {
   "display_name": "Python 3",
   "language": "python",
   "name": "python3"
  },
  "language_info": {
   "codemirror_mode": {
    "name": "ipython",
    "version": 3
   },
   "file_extension": ".py",
   "mimetype": "text/x-python",
   "name": "python",
   "nbconvert_exporter": "python",
   "pygments_lexer": "ipython3",
   "version": "3.5.3"
  }
 },
 "nbformat": 4,
 "nbformat_minor": 2
}
