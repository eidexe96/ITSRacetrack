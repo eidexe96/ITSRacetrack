{
 "cells": [
  {
   "cell_type": "code",
   "execution_count": 40,
   "metadata": {
    "collapsed": true
   },
   "outputs": [],
   "source": [
    "import pandas as pd\n",
    "import writeToDb as db"
   ]
  },
  {
   "cell_type": "raw",
   "metadata": {
    "collapsed": false
   },
   "source": [
    "db.writeToDb(1, gesamtzeit, rundenzeit, zeit01, zeit12, zeit23, zeit30, liveZeit)"
   ]
  },
  {
   "cell_type": "code",
   "execution_count": 72,
   "metadata": {
    "collapsed": false
   },
   "outputs": [
    {
     "data": {
      "text/html": [
       "<div>\n",
       "<style scoped>\n",
       "    .dataframe tbody tr th:only-of-type {\n",
       "        vertical-align: middle;\n",
       "    }\n",
       "\n",
       "    .dataframe tbody tr th {\n",
       "        vertical-align: top;\n",
       "    }\n",
       "\n",
       "    .dataframe thead th {\n",
       "        text-align: right;\n",
       "    }\n",
       "</style>\n",
       "<table border=\"1\" class=\"dataframe\">\n",
       "  <thead>\n",
       "    <tr style=\"text-align: right;\">\n",
       "      <th></th>\n",
       "      <th>Teamname</th>\n",
       "      <th>Checkpoint1</th>\n",
       "      <th>Checkpoint2</th>\n",
       "      <th>Checkpoint3</th>\n",
       "      <th>Checkpoint4</th>\n",
       "    </tr>\n",
       "  </thead>\n",
       "  <tbody>\n",
       "    <tr>\n",
       "      <th>0</th>\n",
       "      <td>X</td>\n",
       "      <td>3.0</td>\n",
       "      <td>3.0</td>\n",
       "      <td>7.0</td>\n",
       "      <td>4.0</td>\n",
       "    </tr>\n",
       "    <tr>\n",
       "      <th>1</th>\n",
       "      <td>Optimus Pi</td>\n",
       "      <td>5.0</td>\n",
       "      <td>3.0</td>\n",
       "      <td>4.0</td>\n",
       "      <td>4.0</td>\n",
       "    </tr>\n",
       "    <tr>\n",
       "      <th>2</th>\n",
       "      <td>X</td>\n",
       "      <td>5.0</td>\n",
       "      <td>5.0</td>\n",
       "      <td>9.0</td>\n",
       "      <td>3.0</td>\n",
       "    </tr>\n",
       "  </tbody>\n",
       "</table>\n",
       "</div>"
      ],
      "text/plain": [
       "     Teamname   Checkpoint1   Checkpoint2   Checkpoint3   Checkpoint4\n",
       "0           X           3.0           3.0           7.0           4.0\n",
       "1  Optimus Pi           5.0           3.0           4.0           4.0\n",
       "2           X           5.0           5.0           9.0           3.0"
      ]
     },
     "execution_count": 72,
     "metadata": {},
     "output_type": "execute_result"
    }
   ],
   "source": [
    "df = pd.read_csv(\"test.csv\")\n",
    "df[['Teamname', ' Checkpoint1', ' Checkpoint2', ' Checkpoint3', ' Checkpoint4']]"
   ]
  },
  {
   "cell_type": "code",
   "execution_count": 74,
   "metadata": {
    "collapsed": false
   },
   "outputs": [
    {
     "data": {
      "text/plain": [
       "3"
      ]
     },
     "execution_count": 74,
     "metadata": {},
     "output_type": "execute_result"
    }
   ],
   "source": [
    "df['Teamname'].count()"
   ]
  },
  {
   "cell_type": "code",
   "execution_count": 84,
   "metadata": {
    "collapsed": false
   },
   "outputs": [],
   "source": [
    "name = df[' Checkpoint1'][2]"
   ]
  },
  {
   "cell_type": "raw",
   "metadata": {},
   "source": [
    "print(name)"
   ]
  },
  {
   "cell_type": "markdown",
   "metadata": {},
   "source": [
    "## l"
   ]
  },
  {
   "cell_type": "markdown",
   "metadata": {},
   "source": [
    "## dfall = df.append(dfa)"
   ]
  },
  {
   "cell_type": "code",
   "execution_count": 86,
   "metadata": {
    "collapsed": false
   },
   "outputs": [
    {
     "name": "stdout",
     "output_type": "stream",
     "text": [
      "5.0\n"
     ]
    }
   ],
   "source": [
    "print(name)"
   ]
  },
  {
   "cell_type": "code",
   "execution_count": 62,
   "metadata": {
    "collapsed": false
   },
   "outputs": [
    {
     "data": {
      "text/html": [
       "<div>\n",
       "<style scoped>\n",
       "    .dataframe tbody tr th:only-of-type {\n",
       "        vertical-align: middle;\n",
       "    }\n",
       "\n",
       "    .dataframe tbody tr th {\n",
       "        vertical-align: top;\n",
       "    }\n",
       "\n",
       "    .dataframe thead th {\n",
       "        text-align: right;\n",
       "    }\n",
       "</style>\n",
       "<table border=\"1\" class=\"dataframe\">\n",
       "  <thead>\n",
       "    <tr style=\"text-align: right;\">\n",
       "      <th></th>\n",
       "      <th>Teamname</th>\n",
       "      <th>Teammitglieder</th>\n",
       "      <th>Gesamtzeit</th>\n",
       "      <th>Rundenzeit</th>\n",
       "      <th>Checkpoint1</th>\n",
       "      <th>Checkpoint2</th>\n",
       "      <th>Checkpoint3</th>\n",
       "      <th>Checkpoint4</th>\n",
       "      <th>Info</th>\n",
       "      <th>Datum</th>\n",
       "    </tr>\n",
       "  </thead>\n",
       "  <tbody>\n",
       "    <tr>\n",
       "      <th>0</th>\n",
       "      <td>X</td>\n",
       "      <td>Goekhan; Alex; Julia</td>\n",
       "      <td>46.0</td>\n",
       "      <td>19.0</td>\n",
       "      <td>3.0</td>\n",
       "      <td>3.0</td>\n",
       "      <td>7.0</td>\n",
       "      <td>4.0</td>\n",
       "      <td>empty</td>\n",
       "      <td>23.01.2018 14:09:45</td>\n",
       "    </tr>\n",
       "    <tr>\n",
       "      <th>1</th>\n",
       "      <td>Optimus Pi</td>\n",
       "      <td>Amdi; Basti; Patrick</td>\n",
       "      <td>38.0</td>\n",
       "      <td>16.0</td>\n",
       "      <td>5.0</td>\n",
       "      <td>3.0</td>\n",
       "      <td>4.0</td>\n",
       "      <td>4.0</td>\n",
       "      <td>Erschaffen in den Flammen Mordors; gekommen u...</td>\n",
       "      <td>23.01.2018 14:15:25</td>\n",
       "    </tr>\n",
       "    <tr>\n",
       "      <th>2</th>\n",
       "      <td>X</td>\n",
       "      <td>Goekhan; Alex; Julia</td>\n",
       "      <td>54.0</td>\n",
       "      <td>26.0</td>\n",
       "      <td>5.0</td>\n",
       "      <td>5.0</td>\n",
       "      <td>9.0</td>\n",
       "      <td>3.0</td>\n",
       "      <td>empty</td>\n",
       "      <td>23.01.2018 14:30:30</td>\n",
       "    </tr>\n",
       "    <tr>\n",
       "      <th>3</th>\n",
       "      <td>NaN</td>\n",
       "      <td>NaN</td>\n",
       "      <td>50.0</td>\n",
       "      <td>NaN</td>\n",
       "      <td>NaN</td>\n",
       "      <td>NaN</td>\n",
       "      <td>NaN</td>\n",
       "      <td>NaN</td>\n",
       "      <td>NaN</td>\n",
       "      <td>NaN</td>\n",
       "    </tr>\n",
       "  </tbody>\n",
       "</table>\n",
       "</div>"
      ],
      "text/plain": [
       "     Teamname         Teammitglieder   Gesamtzeit   Rundenzeit   Checkpoint1  \\\n",
       "0           X   Goekhan; Alex; Julia         46.0         19.0           3.0   \n",
       "1  Optimus Pi   Amdi; Basti; Patrick         38.0         16.0           5.0   \n",
       "2           X   Goekhan; Alex; Julia         54.0         26.0           5.0   \n",
       "3         NaN                    NaN         50.0          NaN           NaN   \n",
       "\n",
       "    Checkpoint2   Checkpoint3   Checkpoint4  \\\n",
       "0           3.0           7.0           4.0   \n",
       "1           3.0           4.0           4.0   \n",
       "2           5.0           9.0           3.0   \n",
       "3           NaN           NaN           NaN   \n",
       "\n",
       "                                                Info                Datum   \n",
       "0                                              empty   23.01.2018 14:09:45  \n",
       "1   Erschaffen in den Flammen Mordors; gekommen u...   23.01.2018 14:15:25  \n",
       "2                                              empty   23.01.2018 14:30:30  \n",
       "3                                                NaN                   NaN  "
      ]
     },
     "execution_count": 62,
     "metadata": {},
     "output_type": "execute_result"
    }
   ],
   "source": [
    "df2.append({' Gesamtzeit':50}, ignore_index = True)"
   ]
  },
  {
   "cell_type": "code",
   "execution_count": 78,
   "metadata": {
    "collapsed": false
   },
   "outputs": [
    {
     "data": {
      "text/html": [
       "<div>\n",
       "<style scoped>\n",
       "    .dataframe tbody tr th:only-of-type {\n",
       "        vertical-align: middle;\n",
       "    }\n",
       "\n",
       "    .dataframe tbody tr th {\n",
       "        vertical-align: top;\n",
       "    }\n",
       "\n",
       "    .dataframe thead th {\n",
       "        text-align: right;\n",
       "    }\n",
       "</style>\n",
       "<table border=\"1\" class=\"dataframe\">\n",
       "  <thead>\n",
       "    <tr style=\"text-align: right;\">\n",
       "      <th></th>\n",
       "      <th>Teamname</th>\n",
       "      <th>Teammitglieder</th>\n",
       "      <th>Gesamtzeit</th>\n",
       "      <th>Rundenzeit</th>\n",
       "      <th>Checkpoint1</th>\n",
       "      <th>Checkpoint2</th>\n",
       "      <th>Checkpoint3</th>\n",
       "      <th>Checkpoint4</th>\n",
       "      <th>Info</th>\n",
       "      <th>Datum</th>\n",
       "    </tr>\n",
       "  </thead>\n",
       "  <tbody>\n",
       "    <tr>\n",
       "      <th>0</th>\n",
       "      <td>X</td>\n",
       "      <td>Goekhan; Alex; Julia</td>\n",
       "      <td>46.0</td>\n",
       "      <td>19.0</td>\n",
       "      <td>3.0</td>\n",
       "      <td>3.0</td>\n",
       "      <td>7.0</td>\n",
       "      <td>4.0</td>\n",
       "      <td>empty</td>\n",
       "      <td>23.01.2018 14:09:45</td>\n",
       "    </tr>\n",
       "    <tr>\n",
       "      <th>1</th>\n",
       "      <td>Optimus Pi</td>\n",
       "      <td>Amdi; Basti; Patrick</td>\n",
       "      <td>38.0</td>\n",
       "      <td>16.0</td>\n",
       "      <td>5.0</td>\n",
       "      <td>3.0</td>\n",
       "      <td>4.0</td>\n",
       "      <td>4.0</td>\n",
       "      <td>Erschaffen in den Flammen Mordors; gekommen u...</td>\n",
       "      <td>23.01.2018 14:15:25</td>\n",
       "    </tr>\n",
       "  </tbody>\n",
       "</table>\n",
       "</div>"
      ],
      "text/plain": [
       "     Teamname         Teammitglieder   Gesamtzeit   Rundenzeit   Checkpoint1  \\\n",
       "0           X   Goekhan; Alex; Julia         46.0         19.0           3.0   \n",
       "1  Optimus Pi   Amdi; Basti; Patrick         38.0         16.0           5.0   \n",
       "\n",
       "    Checkpoint2   Checkpoint3   Checkpoint4  \\\n",
       "0           3.0           7.0           4.0   \n",
       "1           3.0           4.0           4.0   \n",
       "\n",
       "                                                Info                Datum   \n",
       "0                                              empty   23.01.2018 14:09:45  \n",
       "1   Erschaffen in den Flammen Mordors; gekommen u...   23.01.2018 14:15:25  "
      ]
     },
     "execution_count": 78,
     "metadata": {},
     "output_type": "execute_result"
    }
   ],
   "source": [
    "df3=df2[0:2]\n",
    "df3"
   ]
  },
  {
   "cell_type": "code",
   "execution_count": 67,
   "metadata": {
    "collapsed": false
   },
   "outputs": [
    {
     "data": {
      "text/html": [
       "<div>\n",
       "<style scoped>\n",
       "    .dataframe tbody tr th:only-of-type {\n",
       "        vertical-align: middle;\n",
       "    }\n",
       "\n",
       "    .dataframe tbody tr th {\n",
       "        vertical-align: top;\n",
       "    }\n",
       "\n",
       "    .dataframe thead th {\n",
       "        text-align: right;\n",
       "    }\n",
       "</style>\n",
       "<table border=\"1\" class=\"dataframe\">\n",
       "  <thead>\n",
       "    <tr style=\"text-align: right;\">\n",
       "      <th></th>\n",
       "      <th>Teamname</th>\n",
       "      <th>Teammitglieder</th>\n",
       "      <th>Gesamtzeit</th>\n",
       "      <th>Rundenzeit</th>\n",
       "      <th>Checkpoint1</th>\n",
       "      <th>Checkpoint2</th>\n",
       "      <th>Checkpoint3</th>\n",
       "      <th>Checkpoint4</th>\n",
       "      <th>Info</th>\n",
       "      <th>Datum</th>\n",
       "    </tr>\n",
       "  </thead>\n",
       "  <tbody>\n",
       "    <tr>\n",
       "      <th>0</th>\n",
       "      <td>X</td>\n",
       "      <td>Goekhan; Alex; Julia</td>\n",
       "      <td>46.0</td>\n",
       "      <td>19.0</td>\n",
       "      <td>3.0</td>\n",
       "      <td>3.0</td>\n",
       "      <td>7.0</td>\n",
       "      <td>4.0</td>\n",
       "      <td>empty</td>\n",
       "      <td>23.01.2018 14:09:45</td>\n",
       "    </tr>\n",
       "    <tr>\n",
       "      <th>1</th>\n",
       "      <td>Optimus Pi</td>\n",
       "      <td>Amdi; Basti; Patrick</td>\n",
       "      <td>38.0</td>\n",
       "      <td>16.0</td>\n",
       "      <td>5.0</td>\n",
       "      <td>3.0</td>\n",
       "      <td>4.0</td>\n",
       "      <td>4.0</td>\n",
       "      <td>Erschaffen in den Flammen Mordors; gekommen u...</td>\n",
       "      <td>23.01.2018 14:15:25</td>\n",
       "    </tr>\n",
       "    <tr>\n",
       "      <th>2</th>\n",
       "      <td>X</td>\n",
       "      <td>Goekhan; Alex; Julia</td>\n",
       "      <td>54.0</td>\n",
       "      <td>26.0</td>\n",
       "      <td>5.0</td>\n",
       "      <td>5.0</td>\n",
       "      <td>9.0</td>\n",
       "      <td>3.0</td>\n",
       "      <td>empty</td>\n",
       "      <td>23.01.2018 14:30:30</td>\n",
       "    </tr>\n",
       "    <tr>\n",
       "      <th>3</th>\n",
       "      <td>X</td>\n",
       "      <td>NaN</td>\n",
       "      <td>50.0</td>\n",
       "      <td>NaN</td>\n",
       "      <td>NaN</td>\n",
       "      <td>NaN</td>\n",
       "      <td>NaN</td>\n",
       "      <td>NaN</td>\n",
       "      <td>NaN</td>\n",
       "      <td>NaN</td>\n",
       "    </tr>\n",
       "  </tbody>\n",
       "</table>\n",
       "</div>"
      ],
      "text/plain": [
       "     Teamname         Teammitglieder   Gesamtzeit   Rundenzeit   Checkpoint1  \\\n",
       "0           X   Goekhan; Alex; Julia         46.0         19.0           3.0   \n",
       "1  Optimus Pi   Amdi; Basti; Patrick         38.0         16.0           5.0   \n",
       "2           X   Goekhan; Alex; Julia         54.0         26.0           5.0   \n",
       "3           X                    NaN         50.0          NaN           NaN   \n",
       "\n",
       "    Checkpoint2   Checkpoint3   Checkpoint4  \\\n",
       "0           3.0           7.0           4.0   \n",
       "1           3.0           4.0           4.0   \n",
       "2           5.0           9.0           3.0   \n",
       "3           NaN           NaN           NaN   \n",
       "\n",
       "                                                Info                Datum   \n",
       "0                                              empty   23.01.2018 14:09:45  \n",
       "1   Erschaffen in den Flammen Mordors; gekommen u...   23.01.2018 14:15:25  \n",
       "2                                              empty   23.01.2018 14:30:30  \n",
       "3                                                NaN                   NaN  "
      ]
     },
     "execution_count": 67,
     "metadata": {},
     "output_type": "execute_result"
    }
   ],
   "source": [
    "df3.append({' Gesamtzeit':50, 'Teamname' : \"X\"}, ignore_index = True)"
   ]
  },
  {
   "cell_type": "code",
   "execution_count": 89,
   "metadata": {
    "collapsed": false
   },
   "outputs": [
    {
     "data": {
      "text/html": [
       "<div>\n",
       "<style scoped>\n",
       "    .dataframe tbody tr th:only-of-type {\n",
       "        vertical-align: middle;\n",
       "    }\n",
       "\n",
       "    .dataframe tbody tr th {\n",
       "        vertical-align: top;\n",
       "    }\n",
       "\n",
       "    .dataframe thead th {\n",
       "        text-align: right;\n",
       "    }\n",
       "</style>\n",
       "<table border=\"1\" class=\"dataframe\">\n",
       "  <thead>\n",
       "    <tr style=\"text-align: right;\">\n",
       "      <th></th>\n",
       "      <th>Teamname</th>\n",
       "      <th>Checkpoint1</th>\n",
       "      <th>Checkpoint2</th>\n",
       "      <th>Checkpoint3</th>\n",
       "      <th>Checkpoint4</th>\n",
       "    </tr>\n",
       "  </thead>\n",
       "  <tbody>\n",
       "    <tr>\n",
       "      <th>0</th>\n",
       "      <td>X</td>\n",
       "      <td>3.0</td>\n",
       "      <td>3.0</td>\n",
       "      <td>7.0</td>\n",
       "      <td>4.0</td>\n",
       "    </tr>\n",
       "    <tr>\n",
       "      <th>1</th>\n",
       "      <td>Optimus Pi</td>\n",
       "      <td>5.0</td>\n",
       "      <td>3.0</td>\n",
       "      <td>4.0</td>\n",
       "      <td>4.0</td>\n",
       "    </tr>\n",
       "  </tbody>\n",
       "</table>\n",
       "</div>"
      ],
      "text/plain": [
       "     Teamname   Checkpoint1   Checkpoint2   Checkpoint3   Checkpoint4\n",
       "0           X           3.0           3.0           7.0           4.0\n",
       "1  Optimus Pi           5.0           3.0           4.0           4.0"
      ]
     },
     "execution_count": 89,
     "metadata": {},
     "output_type": "execute_result"
    }
   ],
   "source": [
    "df3[['Teamname', ' Checkpoint1', ' Checkpoint2', ' Checkpoint3', ' Checkpoint4']]"
   ]
  },
  {
   "cell_type": "code",
   "execution_count": 87,
   "metadata": {
    "collapsed": true
   },
   "outputs": [],
   "source": [
    "teams = ['x','Optimus Pi','alex']"
   ]
  },
  {
   "cell_type": "code",
   "execution_count": 88,
   "metadata": {
    "collapsed": false
   },
   "outputs": [
    {
     "data": {
      "text/plain": [
       "'Optimus Pi'"
      ]
     },
     "execution_count": 88,
     "metadata": {},
     "output_type": "execute_result"
    }
   ],
   "source": [
    "teams[1]"
   ]
  },
  {
   "cell_type": "code",
   "execution_count": 91,
   "metadata": {
    "collapsed": false
   },
   "outputs": [
    {
     "data": {
      "text/plain": [
       "2"
      ]
     },
     "execution_count": 91,
     "metadata": {},
     "output_type": "execute_result"
    }
   ],
   "source": [
    "df3['Teamname'].count()"
   ]
  },
  {
   "cell_type": "code",
   "execution_count": 98,
   "metadata": {
    "collapsed": false
   },
   "outputs": [],
   "source": [
    "df4=df3.append({'Teamname' : 1, ' Checkpoint1' : 2}, ignore_index = True)"
   ]
  },
  {
   "cell_type": "code",
   "execution_count": 101,
   "metadata": {
    "collapsed": false
   },
   "outputs": [
    {
     "data": {
      "text/plain": [
       "1.0"
      ]
     },
     "execution_count": 101,
     "metadata": {},
     "output_type": "execute_result"
    }
   ],
   "source": [
    "global cdf4['Teamname'][2]"
   ]
  },
  {
   "cell_type": "code",
   "execution_count": 201,
   "metadata": {
    "collapsed": false
   },
   "outputs": [],
   "source": [
    "import time\n",
    "def func(activeCheckpoint, teamid, starttime):\n",
    "    df = pd.read_csv(\"test.csv\")\n",
    "    df = df[['Teamname', ' Checkpoint1', ' Checkpoint2', ' Checkpoint3', ' Checkpoint4']]\n",
    "    entries = df['Teamname'].count()\n",
    "    teams = ['Racetrack', 'Optimus Pi', 'X', 'Team2', 'Pink Danger', 'Racing Team 1', '', 'The Speedcoders']\n",
    "    if activeCheckpoint == 1:\n",
    "        global checkpoints\n",
    "        checktime = time.time()-starttime\n",
    "        checkpoints = [checktime,'NaN','NaN','NaN']\n",
    "        print(checkpoints[0])\n",
    "        df = df.append({'Teamname' : teams[teamid], ' Checkpoint1' : checktime}, ignore_index = True)\n",
    "    else:\n",
    "        teamname = df['Teamname'][entries]\n",
    "        print(teamname)\n",
    "        toLastCheckpoint = checkpoints[(activeCheckpoint-2)%4]\n",
    "        check = \"Checkpoint\"\n",
    "        check += str(activeCheckpoint%4)\n",
    "        checkpoints[(activeCheckpoint-1)%4] = time.time() - starttime - toLastCheckpoint\n",
    "        print(checkpoints[(activeCheckpoint-1)%4])"
   ]
  },
  {
   "cell_type": "code",
   "execution_count": 170,
   "metadata": {
    "collapsed": false
   },
   "outputs": [
    {
     "data": {
      "text/plain": [
       "0.0395960807800293"
      ]
     },
     "execution_count": 170,
     "metadata": {},
     "output_type": "execute_result"
    }
   ],
   "source": [
    "checkpoints[0]"
   ]
  },
  {
   "cell_type": "code",
   "execution_count": 203,
   "metadata": {
    "collapsed": false
   },
   "outputs": [
    {
     "name": "stdout",
     "output_type": "stream",
     "text": [
      "4.311763525009155\n"
     ]
    }
   ],
   "source": [
    "func(2, 2, t)"
   ]
  },
  {
   "cell_type": "code",
   "execution_count": 183,
   "metadata": {
    "collapsed": true
   },
   "outputs": [],
   "source": [
    "t = time.time()"
   ]
  },
  {
   "cell_type": "code",
   "execution_count": 180,
   "metadata": {
    "collapsed": false
   },
   "outputs": [
    {
     "data": {
      "text/plain": [
       "1516726881.2969844"
      ]
     },
     "execution_count": 180,
     "metadata": {},
     "output_type": "execute_result"
    }
   ],
   "source": [
    "t"
   ]
  },
  {
   "cell_type": "code",
   "execution_count": 196,
   "metadata": {
    "collapsed": true
   },
   "outputs": [],
   "source": [
    "teams = ['Racetrack', 'Optimus Pi', 'X', 'Team2', 'Pink Danger', 'Racing Team 1', '', 'The Speedcoders']"
   ]
  },
  {
   "cell_type": "code",
   "execution_count": 197,
   "metadata": {
    "collapsed": false
   },
   "outputs": [
    {
     "data": {
      "text/plain": [
       "'Pink Danger'"
      ]
     },
     "execution_count": 197,
     "metadata": {},
     "output_type": "execute_result"
    }
   ],
   "source": [
    "teams[4]"
   ]
  },
  {
   "cell_type": "code",
   "execution_count": null,
   "metadata": {
    "collapsed": true
   },
   "outputs": [],
   "source": []
  }
 ],
 "metadata": {
  "kernelspec": {
   "display_name": "Python 3",
   "language": "python",
   "name": "python3"
  },
  "language_info": {
   "codemirror_mode": {
    "name": "ipython",
    "version": 3
   },
   "file_extension": ".py",
   "mimetype": "text/x-python",
   "name": "python",
   "nbconvert_exporter": "python",
   "pygments_lexer": "ipython3",
   "version": "3.5.3"
  }
 },
 "nbformat": 4,
 "nbformat_minor": 2
}
